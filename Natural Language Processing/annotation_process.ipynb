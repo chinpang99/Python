{
 "cells": [
  {
   "cell_type": "code",
   "execution_count": null,
   "metadata": {
    "collapsed": true
   },
   "outputs": [],
   "source": [
    "#Install spacy and library. Just Run Once\n",
    "!pip3 install spacy\n",
    "!python3 -m spacy download en_core_web_sm"
   ]
  },
  {
   "cell_type": "code",
   "execution_count": 12,
   "metadata": {
    "pycharm": {
     "name": "#%%\n"
    }
   },
   "outputs": [
    {
     "data": {
      "text/plain": [
       "'London bridge is falling down .'"
      ]
     },
     "execution_count": 12,
     "metadata": {},
     "output_type": "execute_result"
    }
   ],
   "source": [
    "# test spacy and initialize spacy\n",
    "import spacy\n",
    "nlp = spacy.load(\"en_core_web_sm\", disable = ['vectors', 'textcat', 'tagger', 'parser', 'ner'])\n",
    "sent = \"<NULL> London bridge is falling down.\"\n",
    "doc = nlp(sent[7:])\n",
    "tokens = [t.text for t in doc] #tokenization\n",
    "' '.join(tokens)"
   ]
  },
  {
   "cell_type": "code",
   "execution_count": 6,
   "metadata": {
    "pycharm": {
     "name": "#%%\n"
    }
   },
   "outputs": [
    {
     "name": "stdout",
     "output_type": "stream",
     "text": [
      "arrows: [{'fromId': 0, 'id': 0, 'tag': 'Positive', 'toId': 1}, {'fromId': 2, 'id': 1, 'tag': 'Positive', 'toId': 3}, {'fromId': 5, 'id': 2, 'tag': 'Neutral', 'toId': 4}]\n",
      "terms: [{'content': 'love', 'endIndex': 6, 'id': 0, 'startIndex': 2, 'tag': 'Opinion'}, {'content': 'game', 'endIndex': 16, 'id': 1, 'startIndex': 12, 'tag': 'Aspect'}, {'content': 'fun', 'endIndex': 36, 'id': 2, 'startIndex': 33, 'tag': 'Opinion'}, {'content': 'play', 'endIndex': 44, 'id': 3, 'startIndex': 40, 'tag': 'Aspect'}, {'content': 'game', 'endIndex': 62, 'id': 4, 'startIndex': 58, 'tag': 'Aspect'}, {'content': '<NULL>', 'endIndex': -1, 'id': 5, 'startIndex': -7, 'tag': 'Opinion'}]\n"
     ]
    }
   ],
   "source": [
    "# Reference\n",
    "# https://github.com/explosion/spaCy/discussions/6093\n",
    "# https://github.com/explosion/spaCy/discussions/3304\n",
    "import json\n",
    "\n",
    "entry = {\n",
    "    'content': '''<NULL> I love this game so much it's so fun to play. I play this game with my sibling .''',\n",
    "    'first_relatives_result': '''{\"connections\":[{\"fromId\":0,\"id\":0,\"tag\":\"Positive\",\"toId\":1},{\"fromId\":2,\"id\":1,\"tag\":\"Positive\",\"toId\":3},{\"fromId\":5,\"id\":2,\"tag\":\"Neutral\",\"toId\":4}],\"labels\":[{\"content\":\"love\",\"endIndex\":13,\"id\":0,\"startIndex\":9,\"tag\":\"Opinion\"},{\"content\":\"game\",\"endIndex\":23,\"id\":1,\"startIndex\":19,\"tag\":\"Aspect\"},{\"content\":\"fun\",\"endIndex\":43,\"id\":2,\"startIndex\":40,\"tag\":\"Opinion\"},{\"content\":\"play\",\"endIndex\":51,\"id\":3,\"startIndex\":47,\"tag\":\"Aspect\"},{\"content\":\"game\",\"endIndex\":69,\"id\":4,\"startIndex\":65,\"tag\":\"Aspect\"},{\"content\":\"\\u003cNULL\\u003e\",\"endIndex\":6,\"id\":5,\"startIndex\":0,\"tag\":\"Opinion\"}]}''',\n",
    "}\n",
    "\n",
    "NULL_LEN = len('<NULL> ')\n",
    "content = entry['content']\n",
    "annotation_result = entry['first_relatives_result']\n",
    "\n",
    "review = content[NULL_LEN:]\n",
    "annotation_result = json.loads(annotation_result)\n",
    "\n",
    "arrows = annotation_result['connections']\n",
    "\n",
    "terms = []\n",
    "for term in annotation_result['labels']:\n",
    "    term['startIndex'] -= NULL_LEN\n",
    "    term['endIndex'] -= NULL_LEN\n",
    "    terms.append(term)\n",
    "\n",
    "print('arrows:', arrows)\n",
    "print('terms:', terms)\n",
    "\n"
   ]
  },
  {
   "cell_type": "code",
   "execution_count": 7,
   "metadata": {
    "pycharm": {
     "name": "#%%\n"
    }
   },
   "outputs": [
    {
     "name": "stdout",
     "output_type": "stream",
     "text": [
      "review: I love this game so much it's so fun to play. I play this game with my sibling .\n",
      "\n",
      "term: {'content': 'love', 'endIndex': 6, 'id': 0, 'startIndex': 2, 'tag': 'Opinion'}\n",
      "new_term: (1, 2, 'love', 'Opinion')\n",
      "term: {'content': 'game', 'endIndex': 16, 'id': 1, 'startIndex': 12, 'tag': 'Aspect'}\n",
      "new_term: (3, 4, 'game', 'Aspect')\n",
      "term: {'content': 'fun', 'endIndex': 36, 'id': 2, 'startIndex': 33, 'tag': 'Opinion'}\n",
      "new_term: (9, 10, 'fun', 'Opinion')\n",
      "term: {'content': 'play', 'endIndex': 44, 'id': 3, 'startIndex': 40, 'tag': 'Aspect'}\n",
      "new_term: (11, 12, 'play', 'Aspect')\n",
      "term: {'content': 'game', 'endIndex': 62, 'id': 4, 'startIndex': 58, 'tag': 'Aspect'}\n",
      "new_term: (16, 17, 'game', 'Aspect')\n",
      "term: {'content': '<NULL>', 'endIndex': -1, 'id': 5, 'startIndex': -7, 'tag': 'Opinion'}\n",
      "new_term: (-1, -1, '<NULL>', 'Dummy')\n"
     ]
    }
   ],
   "source": [
    "# Convert a term from char index to token index\n",
    "print('review:', review + '\\n')\n",
    "doc = nlp(review)\n",
    "tokens = [t.text for t in doc]\n",
    "tokenized_doc = ' '.join(tokens)\n",
    "\n",
    "\n",
    "newterms = {}\n",
    "for term in terms:\n",
    "    print('term:', term)\n",
    "    term_idx = term['id']\n",
    "    ch_s, ch_e = term['startIndex'], term['endIndex']\n",
    "\n",
    "    if ch_s <0 and ch_e <0: # <NULL>\n",
    "        s, e, term_str, term_type = -1, -1, '<NULL>', 'Dummy'\n",
    "    else:\n",
    "        assert review[ch_s:ch_e] == term['content'] #TODO: check if there is some annotation breaks it, and figure out how to resolve it\n",
    "\n",
    "        span = doc.char_span(ch_s, ch_e)\n",
    "        s, e = span.start, span.end\n",
    "        term_str = term['content']\n",
    "        term_type = term['tag']\n",
    "\n",
    "\n",
    "    new_term = (s, e, term_str, term_type)\n",
    "    print('new_term:', new_term)\n",
    "\n",
    "    newterms[term_idx] = new_term\n"
   ]
  },
  {
   "cell_type": "code",
   "execution_count": 10,
   "metadata": {
    "pycharm": {
     "name": "#%%\n"
    }
   },
   "outputs": [
    {
     "name": "stdout",
     "output_type": "stream",
     "text": [
      "('NULL', (3, 4), (1, 2), 'Positive')\n",
      "('NULL', (11, 12), (9, 10), 'Positive')\n",
      "('NULL', (16, 17), (-1, -1), 'Neutral')\n"
     ]
    }
   ],
   "source": [
    "triplets = []\n",
    "for arrow in arrows:\n",
    "    from_id = arrow['fromId']\n",
    "    to_id = arrow['toId']\n",
    "    sentiment = arrow['tag']\n",
    "\n",
    "    opinion_term = newterms[from_id]\n",
    "    aspect_term = newterms[to_id]\n",
    "\n",
    "\n",
    "    if opinion_term[-1] == 'Aspect' and aspect_term[-1] == 'Opinion':\n",
    "        tmp = aspect_term\n",
    "        aspect_term = opinion_term\n",
    "        opinion_term = tmp\n",
    "\n",
    "\n",
    "    assert opinion_term[-1] in ('Opinion','Dummy')  #TODO: check if any case break it?  order might be flipped, fix it\n",
    "    assert aspect_term[-1] in ('Aspect', 'Dummy')\n",
    "\n",
    "\n",
    "    triplet = ('NULL',  (aspect_term[0], aspect_term[1]), (opinion_term[0], opinion_term[1]), sentiment)\n",
    "    print(triplet)\n",
    "    triplets.append(triplet)\n",
    "\n"
   ]
  },
  {
   "cell_type": "code",
   "execution_count": null,
   "metadata": {
    "pycharm": {
     "name": "#%%\n"
    }
   },
   "outputs": [],
   "source": [
    "\n",
    "# final format\n",
    "#\n",
    "# 'tokenized_doc':tokenized_doc\n",
    "\n",
    "# 'triplet list' : json format [(NULL, (0, 2), (3, 4), Positive), (NULL, (-1, -1), (3, 4), Negative)]\n",
    "# for each arrow, we have (aspect category=NULL, token offset of aspect term, token offset of opinion term, sentiment)\n",
    "# if there is single element without arrow, e.g. aspect term  (NULL, (3,4), (-1, -1), Sentiment)\n",
    "\n",
    "\n",
    "\n"
   ]
  }
 ],
 "metadata": {
  "kernelspec": {
   "display_name": "Python 3 (ipykernel)",
   "language": "python",
   "name": "python3"
  },
  "language_info": {
   "codemirror_mode": {
    "name": "ipython",
    "version": 3
   },
   "file_extension": ".py",
   "mimetype": "text/x-python",
   "name": "python",
   "nbconvert_exporter": "python",
   "pygments_lexer": "ipython3",
   "version": "3.9.13"
  }
 },
 "nbformat": 4,
 "nbformat_minor": 1
}
